{
  "nbformat": 4,
  "nbformat_minor": 0,
  "metadata": {
    "colab": {
      "provenance": []
    },
    "kernelspec": {
      "name": "python3",
      "display_name": "Python 3"
    },
    "language_info": {
      "name": "python"
    }
  },
  "cells": [
    {
      "cell_type": "code",
      "execution_count": null,
      "metadata": {
        "id": "7n-7RIrFTZOW"
      },
      "outputs": [],
      "source": [
        "# importing libraries\n",
        "import cv2\n",
        "import os\n",
        "import numpy as np\n",
        "\n",
        "from tqdm import tqdm"
      ]
    },
    {
      "cell_type": "code",
      "source": [
        "# creating directories\n",
        "os.makedirs('/content/drive/MyDrive/blur_images/gaussian_blurred', exist_ok=True)\n",
        "\n",
        "src_dir = '/content/drive/MyDrive/blur_images/sharp'\n",
        "images = os.listdir(src_dir)\n",
        "dst_dir = '/content/drive/MyDrive/blur_images/gaussian_blurred'"
      ],
      "metadata": {
        "id": "9K07xoTET57p"
      },
      "execution_count": null,
      "outputs": []
    },
    {
      "cell_type": "code",
      "source": [
        "# adding gaussian blurring\n",
        "for i, img in tqdm(enumerate(images), total=len(images)):\n",
        "    img = cv2.imread(f\"{src_dir}/{images[i]}\")\n",
        "    # add blur\n",
        "    blur = cv2.GaussianBlur(img, (31, 31), 0)\n",
        "    # save image\n",
        "    cv2.imwrite(f\"{dst_dir}/{images[i]}\", blur)\n",
        "\n",
        "print('Complete')"
      ],
      "metadata": {
        "colab": {
          "base_uri": "https://localhost:8080/"
        },
        "id": "cQBPcn6HYXuV",
        "outputId": "718aee44-579b-458b-f11c-f19397d8b0de"
      },
      "execution_count": null,
      "outputs": [
        {
          "output_type": "stream",
          "name": "stderr",
          "text": [
            "100%|██████████| 350/350 [05:42<00:00,  1.02it/s]"
          ]
        },
        {
          "output_type": "stream",
          "name": "stdout",
          "text": [
            "Complete\n"
          ]
        },
        {
          "output_type": "stream",
          "name": "stderr",
          "text": [
            "\n"
          ]
        }
      ]
    }
  ]
}